{
 "cells": [
  {
   "cell_type": "code",
   "execution_count": 1,
   "id": "5fc47246",
   "metadata": {},
   "outputs": [],
   "source": [
    "import numpy as np"
   ]
  },
  {
   "cell_type": "code",
   "execution_count": 4,
   "id": "e21cecdf",
   "metadata": {},
   "outputs": [],
   "source": [
    "feature = \"/mnt/c/users/admin/desktop/git hub/ml_projects/features/video/01-01-08-02-02-02-03_features.npy\""
   ]
  },
  {
   "cell_type": "code",
   "execution_count": 5,
   "id": "fa46c8fe",
   "metadata": {},
   "outputs": [],
   "source": [
    "x = np.load(feature)"
   ]
  },
  {
   "cell_type": "code",
   "execution_count": 6,
   "id": "e3518880",
   "metadata": {},
   "outputs": [
    {
     "data": {
      "text/plain": [
       "(1, 1568, 768)"
      ]
     },
     "execution_count": 6,
     "metadata": {},
     "output_type": "execute_result"
    }
   ],
   "source": [
    "x.shape"
   ]
  },
  {
   "cell_type": "code",
   "execution_count": null,
   "id": "c50c3c85",
   "metadata": {},
   "outputs": [],
   "source": []
  }
 ],
 "metadata": {
  "kernelspec": {
   "display_name": "Python 3 (ipykernel)",
   "language": "python",
   "name": "python3"
  },
  "language_info": {
   "codemirror_mode": {
    "name": "ipython",
    "version": 3
   },
   "file_extension": ".py",
   "mimetype": "text/x-python",
   "name": "python",
   "nbconvert_exporter": "python",
   "pygments_lexer": "ipython3",
   "version": "3.10.6"
  }
 },
 "nbformat": 4,
 "nbformat_minor": 5
}
